{
 "cells": [
  {
   "cell_type": "markdown",
   "metadata": {
    "slideshow": {
     "slide_type": "slide"
    }
   },
   "source": [
    "# Just Numpy"
   ]
  },
  {
   "cell_type": "markdown",
   "metadata": {},
   "source": [
    "Let's start with a plausible problem. We have a dataset of all daily temperatures measured at Newark since 1893 and we want to analyze it. First, let's try that with a Python list."
   ]
  },
  {
   "cell_type": "code",
   "execution_count": 1,
   "metadata": {},
   "outputs": [
    {
     "data": {
      "text/plain": [
       "(42019,\n",
       " [nan, nan, nan, nan, nan, nan, nan, nan, nan, nan],\n",
       " [43.0, 47.0, 49.0, 52.0, 48.0, 52.0, 62.0, 68.0, 59.0, 47.0])"
      ]
     },
     "execution_count": 1,
     "metadata": {},
     "output_type": "execute_result"
    }
   ],
   "source": [
    "temperatures = []\n",
    "with open(\"data/newark-temperature-avg.txt\") as file:\n",
    "    for line in file.readlines():\n",
    "        temperatures.append(float(line))\n",
    "\n",
    "len(temperatures), temperatures[:10], temperatures[-10:]"
   ]
  },
  {
   "cell_type": "markdown",
   "metadata": {},
   "source": [
    "Much of the record is missing, as we can see by counting NaNs:"
   ]
  },
  {
   "cell_type": "code",
   "execution_count": 2,
   "metadata": {},
   "outputs": [
    {
     "data": {
      "text/plain": [
       "0.887717461148528"
      ]
     },
     "execution_count": 2,
     "metadata": {},
     "output_type": "execute_result"
    }
   ],
   "source": [
    "import math\n",
    "numbad = 0\n",
    "for x in temperatures:\n",
    "    if math.isnan(x):\n",
    "        numbad += 1\n",
    "\n",
    "numbad / len(temperatures)"
   ]
  },
  {
   "cell_type": "markdown",
   "metadata": {},
   "source": [
    "We have a more complete dataset of daily minimum and maximum temperatures. It's not as accurate, but we can impute the missing averages by averaging the minimum and maximum."
   ]
  },
  {
   "cell_type": "code",
   "execution_count": 3,
   "metadata": {},
   "outputs": [
    {
     "data": {
      "text/plain": [
       "(42019,\n",
       " [26.0, 34.0, 17.0, 13.0, 17.0, 13.0, 12.0, 15.0, 11.0, 4.0],\n",
       " [36.0, 45.0, 45.0, 44.0, 39.0, 37.0, 52.0, 65.0, 46.0, nan],\n",
       " 42019,\n",
       " [52.0, 43.0, 32.0, 23.0, 27.0, 30.0, 28.0, 28.0, 32.0, 32.0],\n",
       " [50.0, 50.0, 54.0, 59.0, 58.0, 68.0, 73.0, 73.0, 67.0, nan])"
      ]
     },
     "execution_count": 3,
     "metadata": {},
     "output_type": "execute_result"
    }
   ],
   "source": [
    "min_temperatures = []\n",
    "with open(\"data/newark-temperature-min.txt\") as file:\n",
    "    for line in file.readlines():\n",
    "        min_temperatures.append(float(line))\n",
    "\n",
    "max_temperatures = []\n",
    "with open(\"data/newark-temperature-max.txt\") as file:\n",
    "    for line in file.readlines():\n",
    "        max_temperatures.append(float(line))\n",
    "\n",
    "(len(min_temperatures), min_temperatures[:10], min_temperatures[-10:],\n",
    " len(max_temperatures), max_temperatures[:10], max_temperatures[-10:])"
   ]
  },
  {
   "cell_type": "markdown",
   "metadata": {},
   "source": [
    "While we fill in the missing values, let's also measure how long it takes."
   ]
  },
  {
   "cell_type": "code",
   "execution_count": 4,
   "metadata": {},
   "outputs": [
    {
     "name": "stdout",
     "output_type": "stream",
     "text": [
      "37 ms ± 366 µs per loop (mean ± std. dev. of 7 runs, 10 loops each)\n"
     ]
    }
   ],
   "source": [
    "%%timeit\n",
    "\n",
    "imputed_temperatures = []\n",
    "for average, minimum, maximum in zip(temperatures, min_temperatures, max_temperatures):\n",
    "    if math.isnan(average):\n",
    "        imputed_temperatures.append(0.5 * (minimum + maximum))\n",
    "    else:\n",
    "        imputed_temperatures.append(average)"
   ]
  },
  {
   "cell_type": "markdown",
   "metadata": {},
   "source": [
    "Now let's do the same thing in Numpy, again measuring the time."
   ]
  },
  {
   "cell_type": "code",
   "execution_count": 5,
   "metadata": {},
   "outputs": [],
   "source": [
    "import numpy\n",
    "\n",
    "temperatures = numpy.array(temperatures)\n",
    "min_temperatures = numpy.array(min_temperatures)\n",
    "max_temperatures = numpy.array(max_temperatures)"
   ]
  },
  {
   "cell_type": "code",
   "execution_count": 6,
   "metadata": {},
   "outputs": [
    {
     "name": "stdout",
     "output_type": "stream",
     "text": [
      "1.27 ms ± 34.2 µs per loop (mean ± std. dev. of 7 runs, 1000 loops each)\n"
     ]
    }
   ],
   "source": [
    "%%timeit\n",
    "\n",
    "missing = numpy.isnan(temperatures)\n",
    "imputed_temperatures = numpy.empty(len(temperatures), dtype=numpy.float64)\n",
    "imputed_temperatures[missing] = 0.5 * (min_temperatures[missing] + max_temperatures[missing])\n",
    "imputed_temperatures[~missing] = temperatures[~missing]"
   ]
  },
  {
   "cell_type": "markdown",
   "metadata": {},
   "source": [
    "Or just"
   ]
  },
  {
   "cell_type": "code",
   "execution_count": 7,
   "metadata": {},
   "outputs": [
    {
     "name": "stdout",
     "output_type": "stream",
     "text": [
      "730 µs ± 61.8 µs per loop (mean ± std. dev. of 7 runs, 1000 loops each)\n"
     ]
    }
   ],
   "source": [
    "%%timeit\n",
    "\n",
    "imputed_temperatures = numpy.where(\n",
    "    # condition                # if true                                    # if false\n",
    "    numpy.isnan(temperatures), 0.5 * (min_temperatures + max_temperatures), temperatures)"
   ]
  },
  {
   "cell_type": "markdown",
   "metadata": {},
   "source": [
    "We see that Numpy can be much faster than Python loops, in this case a factor of 10 or 20, but I have seen as much as 1000. (It depends on the application.) The way you tell it what to do is also very different, which may be good or bad. It may read more naturally, maybe not.\n",
    "\n",
    "One thing we saw was a preoccupation on data types, unusual for Python."
   ]
  },
  {
   "cell_type": "code",
   "execution_count": 8,
   "metadata": {},
   "outputs": [
    {
     "data": {
      "text/plain": [
       "array([0., 0., 0., 0., 0.])"
      ]
     },
     "execution_count": 8,
     "metadata": {},
     "output_type": "execute_result"
    }
   ],
   "source": [
    "numpy.zeros(5, dtype=numpy.float64)"
   ]
  },
  {
   "cell_type": "code",
   "execution_count": 9,
   "metadata": {},
   "outputs": [
    {
     "data": {
      "text/plain": [
       "array([0, 0, 0, 0, 0], dtype=int32)"
      ]
     },
     "execution_count": 9,
     "metadata": {},
     "output_type": "execute_result"
    }
   ],
   "source": [
    "numpy.zeros(5, dtype=numpy.int32)"
   ]
  },
  {
   "cell_type": "code",
   "execution_count": 10,
   "metadata": {},
   "outputs": [
    {
     "data": {
      "text/plain": [
       "array([False, False, False, False, False])"
      ]
     },
     "execution_count": 10,
     "metadata": {},
     "output_type": "execute_result"
    }
   ],
   "source": [
    "numpy.zeros(5, dtype=numpy.bool)"
   ]
  },
  {
   "cell_type": "code",
   "execution_count": 11,
   "metadata": {},
   "outputs": [
    {
     "data": {
      "text/plain": [
       "array([b'', b'', b'', b'', b''], dtype='|S3')"
      ]
     },
     "execution_count": 11,
     "metadata": {},
     "output_type": "execute_result"
    }
   ],
   "source": [
    "numpy.zeros(5, dtype=\"S3\")"
   ]
  },
  {
   "cell_type": "markdown",
   "metadata": {},
   "source": [
    "This is where a large part of Numpy's speed comes from. When Python churns, a lot of that time is spent checking and re-checking data types, which in a compiled language like C++ were checked once and for all in the compilation step."
   ]
  },
  {
   "cell_type": "markdown",
   "metadata": {},
   "source": [
    "Numpy is a suite of compiled functions applied to data with predetermined types. When you're using Numpy properly, you'll have very few `for` loops and `if` statements in your code: the Python code acts as a high-level director, while Numpy does its looping in compiled code."
   ]
  },
  {
   "cell_type": "markdown",
   "metadata": {},
   "source": [
    "The Numpy library consists mainly of one class, `numpy.ndarray`, and operations on it. This is an n-dimensional array of contiguous data. Some operations change that data or make new arrays, but many operations merely change our interpretation of the data. The latter are the fastest."
   ]
  },
  {
   "cell_type": "code",
   "execution_count": 12,
   "metadata": {},
   "outputs": [
    {
     "data": {
      "text/plain": [
       "array([ 0.,  1.,  2.,  3.,  4.,  5.,  6.,  7.,  8.,  9., 10., 11., 12.,\n",
       "       13., 14., 15., 16., 17., 18., 19., 20., 21., 22., 23.])"
      ]
     },
     "execution_count": 12,
     "metadata": {},
     "output_type": "execute_result"
    }
   ],
   "source": [
    "array = numpy.arange(24, dtype=numpy.float64)    # 64-bit floating point numbers\n",
    "array"
   ]
  },
  {
   "cell_type": "code",
   "execution_count": 13,
   "metadata": {},
   "outputs": [
    {
     "data": {
      "text/plain": [
       "array([                  0, 4607182418800017408, 4611686018427387904,\n",
       "       4613937818241073152, 4616189618054758400, 4617315517961601024,\n",
       "       4618441417868443648, 4619567317775286272, 4620693217682128896,\n",
       "       4621256167635550208, 4621819117588971520, 4622382067542392832,\n",
       "       4622945017495814144, 4623507967449235456, 4624070917402656768,\n",
       "       4624633867356078080, 4625196817309499392, 4625478292286210048,\n",
       "       4625759767262920704, 4626041242239631360, 4626322717216342016,\n",
       "       4626604192193052672, 4626885667169763328, 4627167142146473984])"
      ]
     },
     "execution_count": 13,
     "metadata": {},
     "output_type": "execute_result"
    }
   ],
   "source": [
    "array.view(numpy.int64)"
   ]
  },
  {
   "cell_type": "code",
   "execution_count": 72,
   "metadata": {},
   "outputs": [
    {
     "data": {
      "text/plain": [
       "array([[b'', b'\\x9a\\x99\\x99\\x99\\x99\\x99\\xf1?',\n",
       "        b'\\x9a\\x99\\x99\\x99\\x99\\x99\\x01@', b'ffffff\\n@'],\n",
       "       [b'', b'333333$@', b'3333334@', b'\\xcd\\xcc\\xcc\\xcc\\xccL>@'],\n",
       "       [b'', b'fffff\\x06Y@', b'fffff\\x06i@',\n",
       "        b'\\xcd\\xcc\\xcc\\xcc\\xcc\\xc4r@']], dtype='|S8')"
      ]
     },
     "execution_count": 72,
     "metadata": {},
     "output_type": "execute_result"
    }
   ],
   "source": [
    "array.view(\"S8\")"
   ]
  },
  {
   "cell_type": "code",
   "execution_count": 73,
   "metadata": {},
   "outputs": [
    {
     "data": {
      "text/plain": [
       "b'\\x00\\x00\\x00\\x00\\x00\\x00\\x00\\x00\\x9a\\x99\\x99\\x99\\x99\\x99\\xf1?\\x9a\\x99\\x99\\x99\\x99\\x99\\x01@ffffff\\n@\\x00\\x00\\x00\\x00\\x00\\x00\\x00\\x00333333$@3333334@\\xcd\\xcc\\xcc\\xcc\\xccL>@\\x00\\x00\\x00\\x00\\x00\\x00\\x00\\x00fffff\\x06Y@fffff\\x06i@\\xcd\\xcc\\xcc\\xcc\\xcc\\xc4r@'"
      ]
     },
     "execution_count": 73,
     "metadata": {},
     "output_type": "execute_result"
    }
   ],
   "source": [
    "array.tostring()"
   ]
  },
  {
   "cell_type": "code",
   "execution_count": 75,
   "metadata": {},
   "outputs": [
    {
     "data": {
      "text/plain": [
       "array([111, 110, 101,   0,   0, 116, 119, 111,   0,   0, 116, 104, 114,\n",
       "       101, 101], dtype=uint8)"
      ]
     },
     "execution_count": 75,
     "metadata": {},
     "output_type": "execute_result"
    }
   ],
   "source": [
    "numpy.array([b\"one\", b\"two\", b\"three\"]).view(numpy.uint8)"
   ]
  },
  {
   "cell_type": "code",
   "execution_count": 77,
   "metadata": {},
   "outputs": [
    {
     "data": {
      "text/plain": [
       "[111, 110, 101, 0, 0, 116, 119, 111, 0, 0, 116, 104, 114, 101, 101]"
      ]
     },
     "execution_count": 77,
     "metadata": {},
     "output_type": "execute_result"
    }
   ],
   "source": [
    "list(b\"one\\x00\\x00two\\x00\\x00three\")"
   ]
  },
  {
   "cell_type": "code",
   "execution_count": 14,
   "metadata": {},
   "outputs": [
    {
     "data": {
      "text/plain": [
       "array([[ 0.,  1.,  2.,  3.],\n",
       "       [ 4.,  5.,  6.,  7.],\n",
       "       [ 8.,  9., 10., 11.],\n",
       "       [12., 13., 14., 15.],\n",
       "       [16., 17., 18., 19.],\n",
       "       [20., 21., 22., 23.]])"
      ]
     },
     "execution_count": 14,
     "metadata": {},
     "output_type": "execute_result"
    }
   ],
   "source": [
    "array.reshape(6, 4)"
   ]
  },
  {
   "cell_type": "code",
   "execution_count": 15,
   "metadata": {},
   "outputs": [
    {
     "data": {
      "text/plain": [
       "array([[ 0.,  6., 12., 18.],\n",
       "       [ 1.,  7., 13., 19.],\n",
       "       [ 2.,  8., 14., 20.],\n",
       "       [ 3.,  9., 15., 21.],\n",
       "       [ 4., 10., 16., 22.],\n",
       "       [ 5., 11., 17., 23.]])"
      ]
     },
     "execution_count": 15,
     "metadata": {},
     "output_type": "execute_result"
    }
   ],
   "source": [
    "array.reshape(6, 4, order=\"f\")    # Fortran order vs C order: how a 1D sequence covers an nD block"
   ]
  },
  {
   "cell_type": "markdown",
   "metadata": {},
   "source": [
    "This interpretation has only two parameters:\n",
    "\n",
    "   * `dtype` (data type, including endianness): how bytes are represented as numbers\n",
    "   * `shape` and `order`: how those numbers are arranged in an n-dimensional grid\n",
    "\n",
    "Mistakes in interpretation are usually not subtle, so just be sure to _look_ at your data."
   ]
  },
  {
   "cell_type": "markdown",
   "metadata": {},
   "source": [
    "Numpy arrays can be used in mathematical formulae, but instead of computing one value, they compute a whole array of values, element by element."
   ]
  },
  {
   "cell_type": "code",
   "execution_count": 16,
   "metadata": {},
   "outputs": [
    {
     "data": {
      "text/plain": [
       "array([0, 1, 2, 3, 4, 5, 6, 7, 8, 9])"
      ]
     },
     "execution_count": 16,
     "metadata": {},
     "output_type": "execute_result"
    }
   ],
   "source": [
    "a = numpy.arange(10)\n",
    "a"
   ]
  },
  {
   "cell_type": "code",
   "execution_count": 17,
   "metadata": {},
   "outputs": [
    {
     "data": {
      "text/plain": [
       "array([100, 101, 102, 103, 104, 105, 106, 107, 108, 109])"
      ]
     },
     "execution_count": 17,
     "metadata": {},
     "output_type": "execute_result"
    }
   ],
   "source": [
    "a + 100"
   ]
  },
  {
   "cell_type": "code",
   "execution_count": 18,
   "metadata": {},
   "outputs": [],
   "source": [
    "b = numpy.array([0.0, 1.1, 2.2, 3.3, 4.4, 5.5, 6.6, 7.7, 8.8, 9.9])"
   ]
  },
  {
   "cell_type": "code",
   "execution_count": 19,
   "metadata": {},
   "outputs": [
    {
     "data": {
      "text/plain": [
       "array([ 0. ,  2.1,  4.2,  6.3,  8.4, 10.5, 12.6, 14.7, 16.8, 18.9])"
      ]
     },
     "execution_count": 19,
     "metadata": {},
     "output_type": "execute_result"
    }
   ],
   "source": [
    "a + b"
   ]
  },
  {
   "cell_type": "code",
   "execution_count": 20,
   "metadata": {},
   "outputs": [
    {
     "data": {
      "text/plain": [
       "array([ 0,  1,  4,  9, 16, 25, 36, 49, 64, 81])"
      ]
     },
     "execution_count": 20,
     "metadata": {},
     "output_type": "execute_result"
    }
   ],
   "source": [
    "a**2"
   ]
  },
  {
   "cell_type": "markdown",
   "metadata": {},
   "source": [
    "Generally, you can imagine a table of data to compute: the columns represent meaningful quantities (often named) while the rows represent anonymous instances."
   ]
  },
  {
   "cell_type": "code",
   "execution_count": 21,
   "metadata": {},
   "outputs": [
    {
     "data": {
      "text/plain": [
       "10000"
      ]
     },
     "execution_count": 21,
     "metadata": {},
     "output_type": "execute_result"
    }
   ],
   "source": [
    "a = numpy.random.uniform(5, 10, 10000)\n",
    "b = numpy.random.uniform(10, 20, 10000)\n",
    "c = numpy.random.uniform(-0.1, 0.1, 10000)\n",
    "len(a)"
   ]
  },
  {
   "cell_type": "markdown",
   "metadata": {},
   "source": [
    "A conventional Python approach would be to compute the formula on each instance, one after another."
   ]
  },
  {
   "cell_type": "code",
   "execution_count": 22,
   "metadata": {},
   "outputs": [],
   "source": [
    "roots1 = []\n",
    "for ai, bi, ci in zip(a, b, c):\n",
    "    roots1.append((-bi + math.sqrt(bi**2 - 4*ai*ci)) / (2*ai))"
   ]
  },
  {
   "cell_type": "markdown",
   "metadata": {},
   "source": [
    "The Numpy approach computes each step of the formula on all instances before moving on to the next step."
   ]
  },
  {
   "cell_type": "code",
   "execution_count": 23,
   "metadata": {},
   "outputs": [],
   "source": [
    "roots2 = (-b + numpy.sqrt(b**2 - 4*a*c)) / (2*a)"
   ]
  },
  {
   "cell_type": "markdown",
   "metadata": {},
   "source": [
    "It is equivalent to:"
   ]
  },
  {
   "cell_type": "code",
   "execution_count": 24,
   "metadata": {},
   "outputs": [],
   "source": [
    "# (-b + numpy.sqrt(b**2 - 4*a*c)) / (2*a)\n",
    "tmp1 = -b\n",
    "tmp2 = b**2\n",
    "tmp3 = 4*a\n",
    "tmp4 = tmp3*c\n",
    "tmp5 = tmp2 - tmp4\n",
    "tmp6 = numpy.sqrt(tmp5)\n",
    "tmp7 = tmp1 + tmp6\n",
    "tmp8 = 2*a\n",
    "roots3 = tmp7 / tmp8"
   ]
  },
  {
   "cell_type": "markdown",
   "metadata": {},
   "source": [
    "One strange (but useful!) consequence of this rule that mathematical operations are applied elementwise is that it even applies to comparisons. Suppose we want to verify that the `roots1` computed in the Python loop match the `roots2` and `roots3` computed by Numpy."
   ]
  },
  {
   "cell_type": "code",
   "execution_count": 25,
   "metadata": {},
   "outputs": [
    {
     "data": {
      "text/plain": [
       "array([ True,  True,  True, ...,  True,  True,  True])"
      ]
     },
     "execution_count": 25,
     "metadata": {},
     "output_type": "execute_result"
    }
   ],
   "source": [
    "roots1 == roots2"
   ]
  },
  {
   "cell_type": "code",
   "execution_count": 26,
   "metadata": {},
   "outputs": [
    {
     "data": {
      "text/plain": [
       "array([ True,  True,  True, ...,  True,  True,  True])"
      ]
     },
     "execution_count": 26,
     "metadata": {},
     "output_type": "execute_result"
    }
   ],
   "source": [
    "roots2 == roots3"
   ]
  },
  {
   "cell_type": "markdown",
   "metadata": {},
   "source": [
    "When you want to check that _all_ of the elements are equal, I'd use `.all()`."
   ]
  },
  {
   "cell_type": "code",
   "execution_count": 27,
   "metadata": {},
   "outputs": [
    {
     "data": {
      "text/plain": [
       "True"
      ]
     },
     "execution_count": 27,
     "metadata": {},
     "output_type": "execute_result"
    }
   ],
   "source": [
    "(roots2 == roots3).all()"
   ]
  },
  {
   "cell_type": "code",
   "execution_count": 28,
   "metadata": {},
   "outputs": [
    {
     "data": {
      "text/plain": [
       "False"
      ]
     },
     "execution_count": 28,
     "metadata": {},
     "output_type": "execute_result"
    }
   ],
   "source": [
    "(roots1 == roots2).all()"
   ]
  },
  {
   "cell_type": "markdown",
   "metadata": {},
   "source": [
    "Why is that? Didn't we just see that `roots1 == roots2` is `True, True, True, ...`?"
   ]
  },
  {
   "cell_type": "code",
   "execution_count": 29,
   "metadata": {},
   "outputs": [
    {
     "data": {
      "text/plain": [
       "True"
      ]
     },
     "execution_count": 29,
     "metadata": {},
     "output_type": "execute_result"
    }
   ],
   "source": [
    "(roots1 == roots2).any()"
   ]
  },
  {
   "cell_type": "code",
   "execution_count": 30,
   "metadata": {},
   "outputs": [
    {
     "data": {
      "text/plain": [
       "(9872, 10000)"
      ]
     },
     "execution_count": 30,
     "metadata": {},
     "output_type": "execute_result"
    }
   ],
   "source": [
    "(roots1 == roots2).sum(), len(roots1)"
   ]
  },
  {
   "cell_type": "markdown",
   "metadata": {},
   "source": [
    "Which ones fail?"
   ]
  },
  {
   "cell_type": "code",
   "execution_count": 31,
   "metadata": {},
   "outputs": [
    {
     "data": {
      "text/plain": [
       "(array([  82,  107,  152,  247,  353,  371,  512,  771,  807,  853,  878,\n",
       "         894,  953, 1076, 1200, 1346, 1503, 1508, 1522, 1554, 1665, 1703,\n",
       "        1708, 1768, 1771, 1864, 1970, 1983, 2061, 2074, 2176, 2184, 2212,\n",
       "        2239, 2281, 2342, 2544, 2572, 2655, 2693, 2909, 3061, 3141, 3371,\n",
       "        3380, 3459, 3609, 3647, 3666, 3694, 3702, 3753, 3903, 3947, 3969,\n",
       "        4033, 4057, 4115, 4269, 4276, 4472, 4615, 4656, 4712, 4755, 4778,\n",
       "        4812, 4867, 4906, 4914, 4958, 5133, 5185, 5203, 5307, 5382, 5391,\n",
       "        5501, 5543, 5594, 5755, 5865, 5926, 6211, 6250, 6450, 6667, 6798,\n",
       "        7046, 7076, 7091, 7092, 7235, 7300, 7329, 7369, 7372, 7484, 7496,\n",
       "        7581, 7620, 7647, 7734, 7790, 7807, 8014, 8036, 8053, 8193, 8245,\n",
       "        8402, 8469, 8625, 8651, 8748, 8925, 8954, 9004, 9191, 9209, 9258,\n",
       "        9351, 9371, 9478, 9488, 9506, 9539, 9994]),)"
      ]
     },
     "execution_count": 31,
     "metadata": {},
     "output_type": "execute_result"
    }
   ],
   "source": [
    "numpy.nonzero(roots1 != roots2)"
   ]
  },
  {
   "cell_type": "code",
   "execution_count": 32,
   "metadata": {},
   "outputs": [
    {
     "data": {
      "text/plain": [
       "(0.0018472142231023652, 0.0018472142231023652)"
      ]
     },
     "execution_count": 32,
     "metadata": {},
     "output_type": "execute_result"
    }
   ],
   "source": [
    "roots1[35], roots2[35]"
   ]
  },
  {
   "cell_type": "code",
   "execution_count": 33,
   "metadata": {},
   "outputs": [
    {
     "data": {
      "text/plain": [
       "0.0"
      ]
     },
     "execution_count": 33,
     "metadata": {},
     "output_type": "execute_result"
    }
   ],
   "source": [
    "roots1[35] - roots2[35]"
   ]
  },
  {
   "cell_type": "markdown",
   "metadata": {},
   "source": [
    "Numpy uses different routines to do its calculations, so results might not be exactly the same. We don't care about last-digit differences, so we set a tolerance."
   ]
  },
  {
   "cell_type": "code",
   "execution_count": 34,
   "metadata": {},
   "outputs": [
    {
     "data": {
      "text/plain": [
       "True"
      ]
     },
     "execution_count": 34,
     "metadata": {},
     "output_type": "execute_result"
    }
   ],
   "source": [
    "(abs(roots1 - roots2) < 1e-15).all()"
   ]
  },
  {
   "cell_type": "markdown",
   "metadata": {},
   "source": [
    "The upshot of this is that you can perform a calculation with the same expression on Numpy arrays as on Python scalars, as long as it's being applied to a table of numbers (i.e. arrays of all the same length)."
   ]
  },
  {
   "cell_type": "markdown",
   "metadata": {},
   "source": [
    "Now let's get into some fancier gymnastics."
   ]
  },
  {
   "cell_type": "markdown",
   "metadata": {},
   "source": [
    "Python has a wonderfully consistent syntax for _slicing_ lists (or tuples or whatever):"
   ]
  },
  {
   "cell_type": "code",
   "execution_count": 35,
   "metadata": {},
   "outputs": [],
   "source": [
    "alist = [0.0, 1.1, 2.2, 3.3, 4.4, 5.5, 6.6, 7.7, 8.8, 9.9]"
   ]
  },
  {
   "cell_type": "code",
   "execution_count": 36,
   "metadata": {},
   "outputs": [
    {
     "data": {
      "text/plain": [
       "4.4"
      ]
     },
     "execution_count": 36,
     "metadata": {},
     "output_type": "execute_result"
    }
   ],
   "source": [
    "alist[4]"
   ]
  },
  {
   "cell_type": "code",
   "execution_count": 37,
   "metadata": {},
   "outputs": [
    {
     "data": {
      "text/plain": [
       "[4.4, 5.5, 6.6, 7.7, 8.8, 9.9]"
      ]
     },
     "execution_count": 37,
     "metadata": {},
     "output_type": "execute_result"
    }
   ],
   "source": [
    "alist[4:]"
   ]
  },
  {
   "cell_type": "code",
   "execution_count": 38,
   "metadata": {},
   "outputs": [
    {
     "data": {
      "text/plain": [
       "[0.0, 1.1, 2.2, 3.3, 4.4, 5.5, 6.6]"
      ]
     },
     "execution_count": 38,
     "metadata": {},
     "output_type": "execute_result"
    }
   ],
   "source": [
    "alist[:7]"
   ]
  },
  {
   "cell_type": "code",
   "execution_count": 39,
   "metadata": {},
   "outputs": [
    {
     "data": {
      "text/plain": [
       "9.9"
      ]
     },
     "execution_count": 39,
     "metadata": {},
     "output_type": "execute_result"
    }
   ],
   "source": [
    "alist[-1]"
   ]
  },
  {
   "cell_type": "code",
   "execution_count": 40,
   "metadata": {},
   "outputs": [
    {
     "data": {
      "text/plain": [
       "[0.0, 1.1, 2.2, 3.3, 4.4, 5.5, 6.6]"
      ]
     },
     "execution_count": 40,
     "metadata": {},
     "output_type": "execute_result"
    }
   ],
   "source": [
    "alist[:-3]"
   ]
  },
  {
   "cell_type": "code",
   "execution_count": 41,
   "metadata": {},
   "outputs": [
    {
     "data": {
      "text/plain": [
       "[3.3, 4.4, 5.5, 6.6, 7.7]"
      ]
     },
     "execution_count": 41,
     "metadata": {},
     "output_type": "execute_result"
    }
   ],
   "source": [
    "alist[3:8]"
   ]
  },
  {
   "cell_type": "code",
   "execution_count": 42,
   "metadata": {},
   "outputs": [
    {
     "data": {
      "text/plain": [
       "[3.3, 5.5, 7.7]"
      ]
     },
     "execution_count": 42,
     "metadata": {},
     "output_type": "execute_result"
    }
   ],
   "source": [
    "alist[3:8:2]"
   ]
  },
  {
   "cell_type": "code",
   "execution_count": 43,
   "metadata": {},
   "outputs": [
    {
     "data": {
      "text/plain": [
       "[0.0, 2.2, 4.4, 6.6, 8.8]"
      ]
     },
     "execution_count": 43,
     "metadata": {},
     "output_type": "execute_result"
    }
   ],
   "source": [
    "alist[::2]"
   ]
  },
  {
   "cell_type": "code",
   "execution_count": 44,
   "metadata": {},
   "outputs": [
    {
     "data": {
      "text/plain": [
       "[9.9, 7.7, 5.5, 3.3, 1.1]"
      ]
     },
     "execution_count": 44,
     "metadata": {},
     "output_type": "execute_result"
    }
   ],
   "source": [
    "alist[::-2]"
   ]
  },
  {
   "cell_type": "code",
   "execution_count": 45,
   "metadata": {},
   "outputs": [
    {
     "data": {
      "text/plain": [
       "[5.5, 4.4, 3.3, 2.2, 1.1, 0.0]"
      ]
     },
     "execution_count": 45,
     "metadata": {},
     "output_type": "execute_result"
    }
   ],
   "source": [
    "alist[5::-1]"
   ]
  },
  {
   "cell_type": "markdown",
   "metadata": {},
   "source": [
    "Numpy arrays share this syntax— everything that works for a list works for an array— but they extend it considerably."
   ]
  },
  {
   "cell_type": "code",
   "execution_count": 46,
   "metadata": {},
   "outputs": [
    {
     "data": {
      "text/plain": [
       "array([[  0. ,   1.1,   2.2,   3.3],\n",
       "       [  0. ,  10.1,  20.2,  30.3],\n",
       "       [  0. , 100.1, 200.2, 300.3]])"
      ]
     },
     "execution_count": 46,
     "metadata": {},
     "output_type": "execute_result"
    }
   ],
   "source": [
    "array = numpy.array([[0.0, 1.1, 2.2, 3.3], [0, 10.1, 20.2, 30.3], [0, 100.1, 200.2, 300.3]])\n",
    "array"
   ]
  },
  {
   "cell_type": "code",
   "execution_count": 47,
   "metadata": {},
   "outputs": [
    {
     "data": {
      "text/plain": [
       "array([ 0. , 10.1, 20.2, 30.3])"
      ]
     },
     "execution_count": 47,
     "metadata": {},
     "output_type": "execute_result"
    }
   ],
   "source": [
    "array[1]"
   ]
  },
  {
   "cell_type": "code",
   "execution_count": 48,
   "metadata": {},
   "outputs": [
    {
     "data": {
      "text/plain": [
       "array([  1.1,  10.1, 100.1])"
      ]
     },
     "execution_count": 48,
     "metadata": {},
     "output_type": "execute_result"
    }
   ],
   "source": [
    "array[:, 1]"
   ]
  },
  {
   "cell_type": "code",
   "execution_count": 49,
   "metadata": {},
   "outputs": [
    {
     "data": {
      "text/plain": [
       "array([[ 20.2,  30.3],\n",
       "       [200.2, 300.3]])"
      ]
     },
     "execution_count": 49,
     "metadata": {},
     "output_type": "execute_result"
    }
   ],
   "source": [
    "array[1:, 2:]"
   ]
  },
  {
   "cell_type": "code",
   "execution_count": 50,
   "metadata": {},
   "outputs": [
    {
     "data": {
      "text/plain": [
       "array([[  1.1,   3.3],\n",
       "       [100.1, 300.3]])"
      ]
     },
     "execution_count": 50,
     "metadata": {},
     "output_type": "execute_result"
    }
   ],
   "source": [
    "array[::2, 1::2]"
   ]
  },
  {
   "cell_type": "code",
   "execution_count": 51,
   "metadata": {},
   "outputs": [
    {
     "data": {
      "text/plain": [
       "array([[  0. ,  10.1,  20.2,  30.3],\n",
       "       [  0. , 100.1, 200.2, 300.3]])"
      ]
     },
     "execution_count": 51,
     "metadata": {},
     "output_type": "execute_result"
    }
   ],
   "source": [
    "array[[False, True, True]]"
   ]
  },
  {
   "cell_type": "code",
   "execution_count": 52,
   "metadata": {},
   "outputs": [
    {
     "data": {
      "text/plain": [
       "array([[  0. , 100.1, 200.2, 300.3],\n",
       "       [  0. ,  10.1,  20.2,  30.3],\n",
       "       [  0. ,   1.1,   2.2,   3.3]])"
      ]
     },
     "execution_count": 52,
     "metadata": {},
     "output_type": "execute_result"
    }
   ],
   "source": [
    "array[[2, 1, 0]]"
   ]
  },
  {
   "cell_type": "code",
   "execution_count": 53,
   "metadata": {},
   "outputs": [
    {
     "data": {
      "text/plain": [
       "array([[  0. , 100.1, 200.2, 300.3],\n",
       "       [  0. ,  10.1,  20.2,  30.3],\n",
       "       [  0. ,  10.1,  20.2,  30.3],\n",
       "       [  0. ,  10.1,  20.2,  30.3],\n",
       "       [  0. ,  10.1,  20.2,  30.3],\n",
       "       [  0. ,   1.1,   2.2,   3.3],\n",
       "       [  0. ,   1.1,   2.2,   3.3],\n",
       "       [  0. , 100.1, 200.2, 300.3]])"
      ]
     },
     "execution_count": 53,
     "metadata": {},
     "output_type": "execute_result"
    }
   ],
   "source": [
    "array[[2, 1, 1, 1, 1, 0, 0, 2]]"
   ]
  },
  {
   "cell_type": "markdown",
   "metadata": {},
   "source": [
    "What could this possibly be useful for?"
   ]
  },
  {
   "cell_type": "markdown",
   "metadata": {},
   "source": [
    "**Masking:**"
   ]
  },
  {
   "cell_type": "code",
   "execution_count": 54,
   "metadata": {},
   "outputs": [],
   "source": [
    "a = numpy.array([0.0, 1.1, 2.2, 3.3, 4.4, 5.5, 6.6, 7.7, 8.8, 9.9])\n",
    "b = numpy.array([0, 100, 200, 300, 400, 500, 600, 700, 800, 900])"
   ]
  },
  {
   "cell_type": "code",
   "execution_count": 55,
   "metadata": {},
   "outputs": [
    {
     "data": {
      "text/plain": [
       "array([False, False, False, False, False,  True,  True,  True,  True,\n",
       "        True])"
      ]
     },
     "execution_count": 55,
     "metadata": {},
     "output_type": "execute_result"
    }
   ],
   "source": [
    "b > 400"
   ]
  },
  {
   "cell_type": "code",
   "execution_count": 56,
   "metadata": {},
   "outputs": [
    {
     "data": {
      "text/plain": [
       "array([5.5, 6.6, 7.7, 8.8, 9.9])"
      ]
     },
     "execution_count": 56,
     "metadata": {},
     "output_type": "execute_result"
    }
   ],
   "source": [
    "a[b > 400]"
   ]
  },
  {
   "cell_type": "markdown",
   "metadata": {},
   "source": [
    "**Sorting and maximizing:**"
   ]
  },
  {
   "cell_type": "code",
   "execution_count": 57,
   "metadata": {},
   "outputs": [],
   "source": [
    "a = numpy.random.normal(0, 5, 50)\n",
    "b = abs(a)"
   ]
  },
  {
   "cell_type": "code",
   "execution_count": 58,
   "metadata": {},
   "outputs": [
    {
     "data": {
      "text/plain": [
       "array([36, 25, 35, 30, 11, 43, 22,  9, 34,  1,  0,  2, 48, 42, 19, 47, 20,\n",
       "       10, 29, 12, 44,  5,  7, 14, 45, 17, 39, 40, 37, 23, 26, 24,  8, 32,\n",
       "       15, 27,  6,  3, 46, 21, 13, 41, 49, 31, 33, 38,  4, 28, 18, 16])"
      ]
     },
     "execution_count": 58,
     "metadata": {},
     "output_type": "execute_result"
    }
   ],
   "source": [
    "numpy.argsort(a)"
   ]
  },
  {
   "cell_type": "code",
   "execution_count": 59,
   "metadata": {},
   "outputs": [
    {
     "data": {
      "text/plain": [
       "array([-10.05908289,  -9.01523872,  -8.51352342,  -8.39957145,\n",
       "        -8.1871671 ,  -8.07977793,  -7.87310254,  -7.78439273,\n",
       "        -7.54418078,  -7.03775265,  -6.41885289,  -6.33309516,\n",
       "        -6.23946325,  -5.91194849,  -5.27604034,  -5.20038265,\n",
       "        -4.7724411 ,  -4.36433725,  -4.2250898 ,  -4.03527612,\n",
       "        -3.70579841,  -3.41736677,  -3.00275851,  -2.79227831,\n",
       "        -2.50836041,  -2.08350925,  -1.78546704,  -1.00568739,\n",
       "        -0.87146695,  -0.45348838,   0.3563854 ,   0.4408167 ,\n",
       "         0.91806124,   1.19807111,   1.47974809,   1.80446342,\n",
       "         2.03988464,   2.09781916,   2.28446124,   3.08875416,\n",
       "         3.5826108 ,   3.60552276,   4.60322866,   4.90690311,\n",
       "         5.26081085,   5.78555993,   6.23469459,   7.10764997,\n",
       "         7.90251011,   9.17869981])"
      ]
     },
     "execution_count": 59,
     "metadata": {},
     "output_type": "execute_result"
    }
   ],
   "source": [
    "a[numpy.argsort(a)]"
   ]
  },
  {
   "cell_type": "code",
   "execution_count": 60,
   "metadata": {},
   "outputs": [
    {
     "data": {
      "text/plain": [
       "array([[-5., -5., -5., -5., -5., -5., -5., -5., -5., -5., -5.],\n",
       "       [-4., -4., -4., -4., -4., -4., -4., -4., -4., -4., -4.],\n",
       "       [-3., -3., -3., -3., -3., -3., -3., -3., -3., -3., -3.],\n",
       "       [-2., -2., -2., -2., -2., -2., -2., -2., -2., -2., -2.],\n",
       "       [-1., -1., -1., -1., -1., -1., -1., -1., -1., -1., -1.],\n",
       "       [ 0.,  0.,  0.,  0.,  0.,  0.,  0.,  0.,  0.,  0.,  0.],\n",
       "       [ 1.,  1.,  1.,  1.,  1.,  1.,  1.,  1.,  1.,  1.,  1.],\n",
       "       [ 2.,  2.,  2.,  2.,  2.,  2.,  2.,  2.,  2.,  2.,  2.],\n",
       "       [ 3.,  3.,  3.,  3.,  3.,  3.,  3.,  3.,  3.,  3.,  3.],\n",
       "       [ 4.,  4.,  4.,  4.,  4.,  4.,  4.,  4.,  4.,  4.,  4.],\n",
       "       [ 5.,  5.,  5.,  5.,  5.,  5.,  5.,  5.,  5.,  5.,  5.]])"
      ]
     },
     "execution_count": 60,
     "metadata": {},
     "output_type": "execute_result"
    }
   ],
   "source": [
    "a = numpy.meshgrid(numpy.linspace(-5, 5, 11), numpy.linspace(-5, 5, 11))[1]\n",
    "a"
   ]
  },
  {
   "cell_type": "code",
   "execution_count": 61,
   "metadata": {},
   "outputs": [
    {
     "data": {
      "text/plain": [
       "array([10, 10, 10, 10, 10, 10, 10, 10, 10, 10, 10])"
      ]
     },
     "execution_count": 61,
     "metadata": {},
     "output_type": "execute_result"
    }
   ],
   "source": [
    "a.argmax(axis=0)"
   ]
  },
  {
   "cell_type": "code",
   "execution_count": 62,
   "metadata": {},
   "outputs": [
    {
     "data": {
      "text/plain": [
       "array([[5., 5., 5., 5., 5., 5., 5., 5., 5., 5., 5.],\n",
       "       [5., 5., 5., 5., 5., 5., 5., 5., 5., 5., 5.],\n",
       "       [5., 5., 5., 5., 5., 5., 5., 5., 5., 5., 5.],\n",
       "       [5., 5., 5., 5., 5., 5., 5., 5., 5., 5., 5.],\n",
       "       [5., 5., 5., 5., 5., 5., 5., 5., 5., 5., 5.],\n",
       "       [5., 5., 5., 5., 5., 5., 5., 5., 5., 5., 5.],\n",
       "       [5., 5., 5., 5., 5., 5., 5., 5., 5., 5., 5.],\n",
       "       [5., 5., 5., 5., 5., 5., 5., 5., 5., 5., 5.],\n",
       "       [5., 5., 5., 5., 5., 5., 5., 5., 5., 5., 5.],\n",
       "       [5., 5., 5., 5., 5., 5., 5., 5., 5., 5., 5.],\n",
       "       [5., 5., 5., 5., 5., 5., 5., 5., 5., 5., 5.]])"
      ]
     },
     "execution_count": 62,
     "metadata": {},
     "output_type": "execute_result"
    }
   ],
   "source": [
    "a[a.argmax(axis=0)]"
   ]
  },
  {
   "cell_type": "markdown",
   "metadata": {},
   "source": [
    "**Dictionary encoding:**"
   ]
  },
  {
   "cell_type": "code",
   "execution_count": 63,
   "metadata": {},
   "outputs": [],
   "source": [
    "text = \"\"\"Four score and seven years ago our fathers brought forth on this\n",
    "continent, a new nation, conceived in Liberty, and dedicated to the proposition\n",
    "that all men are created equal.\n",
    "\n",
    "Now we are engaged in a great civil war, testing whether that nation, or any\n",
    "nation so conceived and so dedicated, can long endure. We are met on a great\n",
    "battle-field of that war. We have come to dedicate a portion of that field, as\n",
    "a final resting place for those who here gave their lives that that nation might\n",
    "live. It is altogether fitting and proper that we should do this.\n",
    "\n",
    "But, in a larger sense, we can not dedicate -- we can not consecrate -- we can\n",
    "not hallow -- this ground. The brave men, living and dead, who struggled here,\n",
    "have consecrated it, far above our poor power to add or detract. The world will\n",
    "little note, nor long remember what we say here, but it can never forget what\n",
    "they did here. It is for us the living, rather, to be dedicated here to the\n",
    "unfinished work which they who fought here have thus far so nobly advanced. It\n",
    "is rather for us to be here dedicated to the great task remaining before us --\n",
    "that from these honored dead we take increased devotion to that cause for which\n",
    "they gave the last full measure of devotion -- that we here highly resolve that\n",
    "these dead shall not have died in vain -- that this nation, under God, shall\n",
    "have a new birth of freedom -- and that government of the people, by the people,\n",
    "for the people, shall not perish from the earth.\"\"\""
   ]
  },
  {
   "cell_type": "code",
   "execution_count": 64,
   "metadata": {},
   "outputs": [],
   "source": [
    "words = text.replace(\".\", \"\").replace(\",\", \"\").replace(\"--\", \"\").split()"
   ]
  },
  {
   "cell_type": "code",
   "execution_count": 65,
   "metadata": {},
   "outputs": [],
   "source": [
    "dictionary, integers = numpy.unique(words, return_inverse=True)"
   ]
  },
  {
   "cell_type": "code",
   "execution_count": 66,
   "metadata": {},
   "outputs": [
    {
     "data": {
      "text/plain": [
       "(271, 142)"
      ]
     },
     "execution_count": 66,
     "metadata": {},
     "output_type": "execute_result"
    }
   ],
   "source": [
    "len(words), len(dictionary)"
   ]
  },
  {
   "cell_type": "code",
   "execution_count": 67,
   "metadata": {},
   "outputs": [
    {
     "data": {
      "text/plain": [
       "array(['But', 'Four', 'God', 'It', 'Liberty', 'Now', 'The', 'We', 'a',\n",
       "       'above', 'add', 'advanced', 'ago', 'all', 'altogether', 'and',\n",
       "       'any', 'are', 'as', 'battle-field', 'be', 'before', 'birth',\n",
       "       'brave', 'brought', 'but', 'by', 'can', 'cause', 'civil', 'come',\n",
       "       'conceived', 'consecrate', 'consecrated', 'continent', 'created',\n",
       "       'dead', 'dedicate', 'dedicated', 'detract', 'devotion', 'did',\n",
       "       'died', 'do', 'earth', 'endure', 'engaged', 'equal', 'far',\n",
       "       'fathers', 'field', 'final', 'fitting', 'for', 'forget', 'forth',\n",
       "       'fought', 'freedom', 'from', 'full', 'gave', 'government', 'great',\n",
       "       'ground', 'hallow', 'have', 'here', 'highly', 'honored', 'in',\n",
       "       'increased', 'is', 'it', 'larger', 'last', 'little', 'live',\n",
       "       'lives', 'living', 'long', 'measure', 'men', 'met', 'might',\n",
       "       'nation', 'never', 'new', 'nobly', 'nor', 'not', 'note', 'of',\n",
       "       'on', 'or', 'our', 'people', 'perish', 'place', 'poor', 'portion',\n",
       "       'power', 'proper', 'proposition', 'rather', 'remaining',\n",
       "       'remember', 'resolve', 'resting', 'say', 'score', 'sense', 'seven',\n",
       "       'shall', 'should', 'so', 'struggled', 'take', 'task', 'testing',\n",
       "       'that', 'the', 'their', 'these', 'they', 'this', 'those', 'thus',\n",
       "       'to', 'under', 'unfinished', 'us', 'vain', 'war', 'we', 'what',\n",
       "       'whether', 'which', 'who', 'will', 'work', 'world', 'years'],\n",
       "      dtype='<U12')"
      ]
     },
     "execution_count": 67,
     "metadata": {},
     "output_type": "execute_result"
    }
   ],
   "source": [
    "dictionary"
   ]
  },
  {
   "cell_type": "code",
   "execution_count": 68,
   "metadata": {},
   "outputs": [
    {
     "data": {
      "text/plain": [
       "array([  1, 109,  15, 111, 141,  12,  94,  49,  24,  55,  92, 124,  34,\n",
       "         8,  86,  84,  31,  69,   4,  15,  38, 127, 120, 102, 119,  13,\n",
       "        81,  17,  35,  47,   5, 133,  17,  46,  69,   8,  62,  29, 132,\n",
       "       118, 135, 119,  84,  93,  16,  84, 114,  31,  15, 114,  38,  27,\n",
       "        79,  45,   7,  17,  82,  92,   8,  62,  19,  91, 119, 132,   7,\n",
       "        65,  30, 127,  37,   8,  99,  91, 119,  50,  18,   8,  51, 107,\n",
       "        97,  53, 125, 137,  66,  60, 121,  77, 119, 119,  84,  83,  76,\n",
       "         3,  71,  14,  52,  15, 101, 119, 133, 113,  43, 124,   0,  69,\n",
       "         8,  73, 110, 133,  27,  89,  37, 133,  27,  89,  32, 133,  27,\n",
       "        89,  64, 124,  63,   6,  23,  81,  78,  15,  36, 137, 115,  66,\n",
       "        65,  33,  72,  48,   9,  94,  98, 100, 127,  10,  93,  39,   6,\n",
       "       140, 138,  75,  90,  88,  79, 105, 134, 133, 108,  66,  25,  72,\n",
       "        27,  85,  54, 134, 123,  41,  66,   3,  71,  53, 130, 120,  78,\n",
       "       103, 127,  20,  38,  66, 127, 120, 129, 139, 136, 123, 137,  56,\n",
       "        66,  65, 126,  48, 114,  87,  11,   3,  71, 103,  53, 130, 127,\n",
       "        20,  66,  38, 127, 120,  62, 117, 104,  21, 130, 119,  58, 122,\n",
       "        68,  36, 133, 116,  70,  40, 127, 119,  28,  53, 136, 123,  60,\n",
       "       120,  74,  59,  80,  91,  40, 119, 133,  66,  67, 106, 119, 122,\n",
       "        36, 112,  89,  65,  42,  69, 131, 119, 124,  84, 128,   2, 112,\n",
       "        65,   8,  86,  22,  91,  57,  15, 119,  61,  91, 120,  95,  26,\n",
       "       120,  95,  53, 120,  95, 112,  89,  96,  58, 120,  44])"
      ]
     },
     "execution_count": 68,
     "metadata": {},
     "output_type": "execute_result"
    }
   ],
   "source": [
    "integers"
   ]
  },
  {
   "cell_type": "code",
   "execution_count": 69,
   "metadata": {},
   "outputs": [
    {
     "data": {
      "text/plain": [
       "array(['Four', 'score', 'and', 'seven', 'years', 'ago', 'our', 'fathers',\n",
       "       'brought', 'forth', 'on', 'this', 'continent', 'a', 'new',\n",
       "       'nation', 'conceived', 'in', 'Liberty', 'and', 'dedicated', 'to',\n",
       "       'the', 'proposition', 'that', 'all', 'men', 'are', 'created',\n",
       "       'equal', 'Now', 'we', 'are', 'engaged', 'in', 'a', 'great',\n",
       "       'civil', 'war', 'testing', 'whether', 'that', 'nation', 'or',\n",
       "       'any', 'nation', 'so', 'conceived', 'and', 'so', 'dedicated',\n",
       "       'can', 'long', 'endure', 'We', 'are', 'met', 'on', 'a', 'great',\n",
       "       'battle-field', 'of', 'that', 'war', 'We', 'have', 'come', 'to',\n",
       "       'dedicate', 'a', 'portion', 'of', 'that', 'field', 'as', 'a',\n",
       "       'final', 'resting', 'place', 'for', 'those', 'who', 'here', 'gave',\n",
       "       'their', 'lives', 'that', 'that', 'nation', 'might', 'live', 'It',\n",
       "       'is', 'altogether', 'fitting', 'and', 'proper', 'that', 'we',\n",
       "       'should', 'do', 'this', 'But', 'in', 'a', 'larger', 'sense', 'we',\n",
       "       'can', 'not', 'dedicate', 'we', 'can', 'not', 'consecrate', 'we',\n",
       "       'can', 'not', 'hallow', 'this', 'ground', 'The', 'brave', 'men',\n",
       "       'living', 'and', 'dead', 'who', 'struggled', 'here', 'have',\n",
       "       'consecrated', 'it', 'far', 'above', 'our', 'poor', 'power', 'to',\n",
       "       'add', 'or', 'detract', 'The', 'world', 'will', 'little', 'note',\n",
       "       'nor', 'long', 'remember', 'what', 'we', 'say', 'here', 'but',\n",
       "       'it', 'can', 'never', 'forget', 'what', 'they', 'did', 'here',\n",
       "       'It', 'is', 'for', 'us', 'the', 'living', 'rather', 'to', 'be',\n",
       "       'dedicated', 'here', 'to', 'the', 'unfinished', 'work', 'which',\n",
       "       'they', 'who', 'fought', 'here', 'have', 'thus', 'far', 'so',\n",
       "       'nobly', 'advanced', 'It', 'is', 'rather', 'for', 'us', 'to', 'be',\n",
       "       'here', 'dedicated', 'to', 'the', 'great', 'task', 'remaining',\n",
       "       'before', 'us', 'that', 'from', 'these', 'honored', 'dead', 'we',\n",
       "       'take', 'increased', 'devotion', 'to', 'that', 'cause', 'for',\n",
       "       'which', 'they', 'gave', 'the', 'last', 'full', 'measure', 'of',\n",
       "       'devotion', 'that', 'we', 'here', 'highly', 'resolve', 'that',\n",
       "       'these', 'dead', 'shall', 'not', 'have', 'died', 'in', 'vain',\n",
       "       'that', 'this', 'nation', 'under', 'God', 'shall', 'have', 'a',\n",
       "       'new', 'birth', 'of', 'freedom', 'and', 'that', 'government', 'of',\n",
       "       'the', 'people', 'by', 'the', 'people', 'for', 'the', 'people',\n",
       "       'shall', 'not', 'perish', 'from', 'the', 'earth'], dtype='<U12')"
      ]
     },
     "execution_count": 69,
     "metadata": {},
     "output_type": "execute_result"
    }
   ],
   "source": [
    "dictionary[integers]"
   ]
  },
  {
   "cell_type": "markdown",
   "metadata": {},
   "source": [
    "Notice that slicing with integer indexes is a function in the mathematical sense. An array is a mapping from integers to the values of the array: `[0, N) → V`.\n",
    "\n",
    "Slicing with integer indexes composes a function `[0, m) → [0, N)` with it to get a new function `[0, m) → V`."
   ]
  },
  {
   "cell_type": "code",
   "execution_count": 70,
   "metadata": {},
   "outputs": [
    {
     "data": {
      "text/plain": [
       "array(['three', 'three', 'one', 'two', 'four', 'zero', 'one'], dtype='<U5')"
      ]
     },
     "execution_count": 70,
     "metadata": {},
     "output_type": "execute_result"
    }
   ],
   "source": [
    "a = numpy.array([\"zero\", \"one\", \"two\", \"three\", \"four\"])\n",
    "b = numpy.array([3, 3, 1, 2, 4, 0, 1])\n",
    "\n",
    "a[b]"
   ]
  },
  {
   "cell_type": "markdown",
   "metadata": {},
   "source": [
    "Putting things together: we can use reshaping and fancy indexing together to do some surprisingly powerful things. (\"Look, ma! No for loops!\")\n",
    "\n",
    "For example, I once had to reverse a list in groups of 8. I struggled with it until I found this online:"
   ]
  },
  {
   "cell_type": "code",
   "execution_count": 78,
   "metadata": {},
   "outputs": [],
   "source": [
    "original = numpy.array([7, 6, 5, 4, 3, 2, 1, 0,\n",
    "                        15, 14, 13, 12, 11, 10, 9, 8,\n",
    "                        23, 22, 21, 20, 19, 18, 17, 16,\n",
    "                        31, 30, 29, 28, 27, 26, 25, 24])"
   ]
  },
  {
   "cell_type": "code",
   "execution_count": 82,
   "metadata": {},
   "outputs": [
    {
     "data": {
      "text/plain": [
       "array([ 0,  1,  2,  3,  4,  5,  6,  7,  8,  9, 10, 11, 12, 13, 14, 15, 16,\n",
       "       17, 18, 19, 20, 21, 22, 23, 24, 25, 26, 27, 28, 29, 30, 31])"
      ]
     },
     "execution_count": 82,
     "metadata": {},
     "output_type": "execute_result"
    }
   ],
   "source": [
    "original.reshape(4, 8)[:, ::-1].reshape(32)"
   ]
  },
  {
   "cell_type": "markdown",
   "metadata": {},
   "source": [
    "**Exercise:** shuffling cards. Suppose you want to model the first cut of a deck of cards. The dealer roughly cuts the deck in two and flips them together such that all cards from the left hand are in order relative to each other and all cards from the right hand are in order relative to each other, but they are randomly interleaved."
   ]
  },
  {
   "cell_type": "code",
   "execution_count": null,
   "metadata": {},
   "outputs": [],
   "source": []
  }
 ],
 "metadata": {
  "celltoolbar": "Slideshow",
  "kernelspec": {
   "display_name": "Python 3",
   "language": "python",
   "name": "python3"
  },
  "language_info": {
   "codemirror_mode": {
    "name": "ipython",
    "version": 3
   },
   "file_extension": ".py",
   "mimetype": "text/x-python",
   "name": "python",
   "nbconvert_exporter": "python",
   "pygments_lexer": "ipython3",
   "version": "3.7.0"
  }
 },
 "nbformat": 4,
 "nbformat_minor": 2
}
